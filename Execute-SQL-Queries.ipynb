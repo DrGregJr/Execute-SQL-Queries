{
 "cells": [
  {
   "cell_type": "code",
   "execution_count": 7,
   "metadata": {
    "collapsed": false
   },
   "outputs": [
    {
     "name": "stdout",
     "output_type": "stream",
     "text": [
      "DRIVER={IBM DB2 ODBC DRIVER};DATABASE=BLUDB;HOSTNAME=dashdb-txn-sbox-yp-dal09-04.services.dal.bluemix.net;PORT=50000;PROTOCOL=TCPIP;UID=rkc86143;PWD=87nvnpw^q6hb317v;\n",
      "Connected!\n"
     ]
    }
   ],
   "source": [
    "import ibm_db\n",
    "\n",
    "dsn_driver = \"{IBM DB2 ODBC DRIVER}\"\n",
    "dsn_database = \"BLUDB\"            # e.g. \"BLUDB\"\n",
    "dsn_hostname = \"dashdb-txn-sbox-yp-dal09-04.services.dal.bluemix.net\" # e.g.: \"awh-yp-small03.services.dal.bluemix.net\"\n",
    "dsn_port = \"50000\"                # e.g. \"50000\" \n",
    "dsn_protocol = \"TCPIP\"            # i.e. \"TCPIP\"\n",
    "dsn_uid = \"rkc86143\"        # e.g. \"dash104434\"\n",
    "dsn_pwd = \"87nvnpw^q6hb317v\"       # e.g. \"7dBZ3wWt9xN6$o0JiX!m\"\n",
    "\n",
    "#Create the dsn connection string\n",
    "dsn = (\n",
    "    \"DRIVER={0};\"\n",
    "    \"DATABASE={1};\"\n",
    "    \"HOSTNAME={2};\"\n",
    "    \"PORT={3};\"\n",
    "    \"PROTOCOL={4};\"\n",
    "    \"UID={5};\"\n",
    "    \"PWD={6};\").format(dsn_driver, dsn_database, dsn_hostname, dsn_port, dsn_protocol, dsn_uid, dsn_pwd)\n",
    "\n",
    "#print the connection string to check correct values are specified\n",
    "print(dsn)\n",
    "try:\n",
    "    conn = ibm_db.connect(dsn, \"\", \"\")\n",
    "    print (\"Connected!\")\n",
    "\n",
    "except:\n",
    "    print (\"Unable to connect to database\")"
   ]
  },
  {
   "cell_type": "code",
   "execution_count": 1,
   "metadata": {
    "collapsed": false
   },
   "outputs": [
    {
     "data": {
      "text/plain": [
       "'Connected: rkc86143@BLUDB'"
      ]
     },
     "execution_count": 1,
     "metadata": {},
     "output_type": "execute_result"
    }
   ],
   "source": [
    "%load_ext sql\n",
    "%sql ibm_db_sa://rkc86143:87nvnpw%5Eq6hb317v@dashdb-txn-sbox-yp-dal09-04.services.dal.bluemix.net:50000/BLUDB"
   ]
  },
  {
   "cell_type": "markdown",
   "metadata": {},
   "source": [
    "**Problem 1: Find the total number of records for each of the tables**"
   ]
  },
  {
   "cell_type": "code",
   "execution_count": 93,
   "metadata": {
    "collapsed": false
   },
   "outputs": [
    {
     "name": "stdout",
     "output_type": "stream",
     "text": [
      " * ibm_db_sa://rkc86143:***@dashdb-txn-sbox-yp-dal09-04.services.dal.bluemix.net:50000/BLUDB\n",
      "Done.\n"
     ]
    },
    {
     "data": {
      "text/html": [
       "<table>\n",
       "    <tr>\n",
       "        <th>1</th>\n",
       "    </tr>\n",
       "    <tr>\n",
       "        <td>1132</td>\n",
       "    </tr>\n",
       "</table>"
      ],
      "text/plain": [
       "[(Decimal('1132'),)]"
      ]
     },
     "execution_count": 93,
     "metadata": {},
     "output_type": "execute_result"
    }
   ],
   "source": [
    "%sql select count(*) from CHIPUBLIC; "
   ]
  },
  {
   "cell_type": "code",
   "execution_count": 39,
   "metadata": {
    "collapsed": false
   },
   "outputs": [
    {
     "name": "stdout",
     "output_type": "stream",
     "text": [
      " * ibm_db_sa://rkc86143:***@dashdb-txn-sbox-yp-dal09-04.services.dal.bluemix.net:50000/BLUDB\n",
      "Done.\n"
     ]
    },
    {
     "data": {
      "text/html": [
       "<table>\n",
       "    <tr>\n",
       "        <th>1</th>\n",
       "    </tr>\n",
       "    <tr>\n",
       "        <td>156</td>\n",
       "    </tr>\n",
       "</table>"
      ],
      "text/plain": [
       "[(Decimal('156'),)]"
      ]
     },
     "execution_count": 39,
     "metadata": {},
     "output_type": "execute_result"
    }
   ],
   "source": [
    "%sql select count(*) from CENSUS;"
   ]
  },
  {
   "cell_type": "code",
   "execution_count": 41,
   "metadata": {
    "collapsed": false
   },
   "outputs": [
    {
     "name": "stdout",
     "output_type": "stream",
     "text": [
      " * ibm_db_sa://rkc86143:***@dashdb-txn-sbox-yp-dal09-04.services.dal.bluemix.net:50000/BLUDB\n",
      "Done.\n"
     ]
    },
    {
     "data": {
      "text/html": [
       "<table>\n",
       "    <tr>\n",
       "        <th>1</th>\n",
       "    </tr>\n",
       "    <tr>\n",
       "        <td>1066</td>\n",
       "    </tr>\n",
       "</table>"
      ],
      "text/plain": [
       "[(Decimal('1066'),)]"
      ]
     },
     "execution_count": 41,
     "metadata": {},
     "output_type": "execute_result"
    }
   ],
   "source": [
    "%sql select count(*) from CHICRIME;"
   ]
  },
  {
   "cell_type": "markdown",
   "metadata": {},
   "source": [
    "**Problem 2 Find average college enrollments by community area**"
   ]
  },
  {
   "cell_type": "code",
   "execution_count": 179,
   "metadata": {
    "collapsed": false
   },
   "outputs": [
    {
     "name": "stdout",
     "output_type": "stream",
     "text": [
      " * ibm_db_sa://rkc86143:***@dashdb-txn-sbox-yp-dal09-04.services.dal.bluemix.net:50000/BLUDB\n",
      "Done.\n"
     ]
    },
    {
     "data": {
      "text/html": [
       "<table>\n",
       "    <tr>\n",
       "        <th>1</th>\n",
       "    </tr>\n",
       "    <tr>\n",
       "        <td>626.053003</td>\n",
       "    </tr>\n",
       "</table>"
      ],
      "text/plain": [
       "[(Decimal('626.053003'),)]"
      ]
     },
     "execution_count": 179,
     "metadata": {},
     "output_type": "execute_result"
    }
   ],
   "source": [
    "%sql select avg(\"College_Enrollment__number_of_students_\") from CHIPUBLIC;"
   ]
  },
  {
   "cell_type": "markdown",
   "metadata": {},
   "source": [
    "**Problem 3: Find the number of schools that are healthy school certified**"
   ]
  },
  {
   "cell_type": "code",
   "execution_count": 265,
   "metadata": {
    "collapsed": false
   },
   "outputs": [
    {
     "name": "stdout",
     "output_type": "stream",
     "text": [
      " * ibm_db_sa://rkc86143:***@dashdb-txn-sbox-yp-dal09-04.services.dal.bluemix.net:50000/BLUDB\n",
      "Done.\n"
     ]
    },
    {
     "data": {
      "text/html": [
       "<table>\n",
       "    <tr>\n",
       "        <th>Name_of_School</th>\n",
       "        <th>Healthy_Schools_Certified_</th>\n",
       "    </tr>\n",
       "    <tr>\n",
       "        <td>Abraham Lincoln Elementary School</td>\n",
       "        <td>Yes</td>\n",
       "    </tr>\n",
       "    <tr>\n",
       "        <td>Air Force Academy High School</td>\n",
       "        <td>Yes</td>\n",
       "    </tr>\n",
       "    <tr>\n",
       "        <td>Ana Roque de Duprey Elementary School</td>\n",
       "        <td>Yes</td>\n",
       "    </tr>\n",
       "    <tr>\n",
       "        <td>Calmeca Academy of Fine Arts and Dual Language</td>\n",
       "        <td>Yes</td>\n",
       "    </tr>\n",
       "    <tr>\n",
       "        <td>Cyrus H McCormick Elementary School</td>\n",
       "        <td>Yes</td>\n",
       "    </tr>\n",
       "    <tr>\n",
       "        <td>Eli Whitney Elementary School</td>\n",
       "        <td>Yes</td>\n",
       "    </tr>\n",
       "    <tr>\n",
       "        <td>Francisco I Madero Middle School</td>\n",
       "        <td>Yes</td>\n",
       "    </tr>\n",
       "    <tr>\n",
       "        <td>Hawthorne Elementary Scholastic Academy</td>\n",
       "        <td>Yes</td>\n",
       "    </tr>\n",
       "    <tr>\n",
       "        <td>Irma C Ruiz Elementary School</td>\n",
       "        <td>Yes</td>\n",
       "    </tr>\n",
       "    <tr>\n",
       "        <td>John A Walsh Elementary School</td>\n",
       "        <td>Yes</td>\n",
       "    </tr>\n",
       "    <tr>\n",
       "        <td>John C Burroughs Elementary School</td>\n",
       "        <td>Yes</td>\n",
       "    </tr>\n",
       "    <tr>\n",
       "        <td>Jose De Diego Elementary Community Academy</td>\n",
       "        <td>Yes</td>\n",
       "    </tr>\n",
       "    <tr>\n",
       "        <td>Manuel Perez Elementary School</td>\n",
       "        <td>Yes</td>\n",
       "    </tr>\n",
       "    <tr>\n",
       "        <td>Nathanael Greene Elementary School</td>\n",
       "        <td>Yes</td>\n",
       "    </tr>\n",
       "    <tr>\n",
       "        <td>Rufus M Hitch Elementary School</td>\n",
       "        <td>Yes</td>\n",
       "    </tr>\n",
       "    <tr>\n",
       "        <td>Sharon Christa McAuliffe Elementary School</td>\n",
       "        <td>Yes</td>\n",
       "    </tr>\n",
       "    <tr>\n",
       "        <td>Abraham Lincoln Elementary School</td>\n",
       "        <td>Yes</td>\n",
       "    </tr>\n",
       "    <tr>\n",
       "        <td>Air Force Academy High School</td>\n",
       "        <td>Yes</td>\n",
       "    </tr>\n",
       "    <tr>\n",
       "        <td>Ana Roque de Duprey Elementary School</td>\n",
       "        <td>Yes</td>\n",
       "    </tr>\n",
       "    <tr>\n",
       "        <td>Calmeca Academy of Fine Arts and Dual Language</td>\n",
       "        <td>Yes</td>\n",
       "    </tr>\n",
       "    <tr>\n",
       "        <td>Cyrus H McCormick Elementary School</td>\n",
       "        <td>Yes</td>\n",
       "    </tr>\n",
       "    <tr>\n",
       "        <td>Eli Whitney Elementary School</td>\n",
       "        <td>Yes</td>\n",
       "    </tr>\n",
       "    <tr>\n",
       "        <td>Francisco I Madero Middle School</td>\n",
       "        <td>Yes</td>\n",
       "    </tr>\n",
       "    <tr>\n",
       "        <td>Hawthorne Elementary Scholastic Academy</td>\n",
       "        <td>Yes</td>\n",
       "    </tr>\n",
       "    <tr>\n",
       "        <td>Irma C Ruiz Elementary School</td>\n",
       "        <td>Yes</td>\n",
       "    </tr>\n",
       "    <tr>\n",
       "        <td>John A Walsh Elementary School</td>\n",
       "        <td>Yes</td>\n",
       "    </tr>\n",
       "    <tr>\n",
       "        <td>John C Burroughs Elementary School</td>\n",
       "        <td>Yes</td>\n",
       "    </tr>\n",
       "    <tr>\n",
       "        <td>Jose De Diego Elementary Community Academy</td>\n",
       "        <td>Yes</td>\n",
       "    </tr>\n",
       "    <tr>\n",
       "        <td>Manuel Perez Elementary School</td>\n",
       "        <td>Yes</td>\n",
       "    </tr>\n",
       "    <tr>\n",
       "        <td>Nathanael Greene Elementary School</td>\n",
       "        <td>Yes</td>\n",
       "    </tr>\n",
       "    <tr>\n",
       "        <td>Rufus M Hitch Elementary School</td>\n",
       "        <td>Yes</td>\n",
       "    </tr>\n",
       "    <tr>\n",
       "        <td>Sharon Christa McAuliffe Elementary School</td>\n",
       "        <td>Yes</td>\n",
       "    </tr>\n",
       "</table>"
      ],
      "text/plain": [
       "[('Abraham Lincoln Elementary School', 'Yes'),\n",
       " ('Air Force Academy High School', 'Yes'),\n",
       " ('Ana Roque de Duprey Elementary School', 'Yes'),\n",
       " ('Calmeca Academy of Fine Arts and Dual Language', 'Yes'),\n",
       " ('Cyrus H McCormick Elementary School', 'Yes'),\n",
       " ('Eli Whitney Elementary School', 'Yes'),\n",
       " ('Francisco I Madero Middle School', 'Yes'),\n",
       " ('Hawthorne Elementary Scholastic Academy', 'Yes'),\n",
       " ('Irma C Ruiz Elementary School', 'Yes'),\n",
       " ('John A Walsh Elementary School', 'Yes'),\n",
       " ('John C Burroughs Elementary School', 'Yes'),\n",
       " ('Jose De Diego Elementary Community Academy', 'Yes'),\n",
       " ('Manuel Perez Elementary School', 'Yes'),\n",
       " ('Nathanael Greene Elementary School', 'Yes'),\n",
       " ('Rufus M Hitch Elementary School', 'Yes'),\n",
       " ('Sharon Christa McAuliffe Elementary School', 'Yes'),\n",
       " ('Abraham Lincoln Elementary School', 'Yes'),\n",
       " ('Air Force Academy High School', 'Yes'),\n",
       " ('Ana Roque de Duprey Elementary School', 'Yes'),\n",
       " ('Calmeca Academy of Fine Arts and Dual Language', 'Yes'),\n",
       " ('Cyrus H McCormick Elementary School', 'Yes'),\n",
       " ('Eli Whitney Elementary School', 'Yes'),\n",
       " ('Francisco I Madero Middle School', 'Yes'),\n",
       " ('Hawthorne Elementary Scholastic Academy', 'Yes'),\n",
       " ('Irma C Ruiz Elementary School', 'Yes'),\n",
       " ('John A Walsh Elementary School', 'Yes'),\n",
       " ('John C Burroughs Elementary School', 'Yes'),\n",
       " ('Jose De Diego Elementary Community Academy', 'Yes'),\n",
       " ('Manuel Perez Elementary School', 'Yes'),\n",
       " ('Nathanael Greene Elementary School', 'Yes'),\n",
       " ('Rufus M Hitch Elementary School', 'Yes'),\n",
       " ('Sharon Christa McAuliffe Elementary School', 'Yes')]"
      ]
     },
     "execution_count": 265,
     "metadata": {},
     "output_type": "execute_result"
    }
   ],
   "source": [
    "%sql select \"Name_of_School\", \"Healthy_Schools_Certified_\" from CHIPUBLIC where \"Healthy_Schools_Certified_\""
   ]
  },
  {
   "cell_type": "markdown",
   "metadata": {},
   "source": [
    "**Problem 4: How many observations have a Location Description value of GAS STATION?**"
   ]
  },
  {
   "cell_type": "code",
   "execution_count": 6,
   "metadata": {
    "collapsed": false
   },
   "outputs": [
    {
     "name": "stdout",
     "output_type": "stream",
     "text": [
      " * ibm_db_sa://rkc86143:***@dashdb-txn-sbox-yp-dal09-04.services.dal.bluemix.net:50000/BLUDB\n",
      "Done.\n"
     ]
    },
    {
     "data": {
      "text/html": [
       "<table>\n",
       "    <tr>\n",
       "        <th>Gas Stations</th>\n",
       "    </tr>\n",
       "    <tr>\n",
       "        <td>12</td>\n",
       "    </tr>\n",
       "</table>"
      ],
      "text/plain": [
       "[(Decimal('12'),)]"
      ]
     },
     "execution_count": 6,
     "metadata": {},
     "output_type": "execute_result"
    }
   ],
   "source": [
    "%sql select count(*) \"Gas Stations\" from CHICRIME where \"Location_Description\" = 'GAS STATION'"
   ]
  },
  {
   "cell_type": "markdown",
   "metadata": {},
   "source": [
    "**Problem 5: Retrieve a list of the top 10 community areas which have most number of schools and sorted in descending order.**\n"
   ]
  },
  {
   "cell_type": "code",
   "execution_count": 76,
   "metadata": {
    "collapsed": false
   },
   "outputs": [
    {
     "name": "stdout",
     "output_type": "stream",
     "text": [
      " * ibm_db_sa://rkc86143:***@dashdb-txn-sbox-yp-dal09-04.services.dal.bluemix.net:50000/BLUDB\n",
      "Done.\n"
     ]
    },
    {
     "data": {
      "text/html": [
       "<table>\n",
       "    <tr>\n",
       "        <th>Name_of_School</th>\n",
       "        <th>Average_Student_Attendance</th>\n",
       "    </tr>\n",
       "    <tr>\n",
       "        <td>John Charles Haines Elementary School</td>\n",
       "        <td>98.4%</td>\n",
       "    </tr>\n",
       "    <tr>\n",
       "        <td>John Charles Haines Elementary School</td>\n",
       "        <td>98.4%</td>\n",
       "    </tr>\n",
       "    <tr>\n",
       "        <td>James Ward Elementary School</td>\n",
       "        <td>97.8%</td>\n",
       "    </tr>\n",
       "    <tr>\n",
       "        <td>James Ward Elementary School</td>\n",
       "        <td>97.8%</td>\n",
       "    </tr>\n",
       "    <tr>\n",
       "        <td>Edgar Allan Poe Elementary Classical School</td>\n",
       "        <td>97.6%</td>\n",
       "    </tr>\n",
       "    <tr>\n",
       "        <td>Orozco Fine Arts &amp; Sciences Elementary School</td>\n",
       "        <td>97.6%</td>\n",
       "    </tr>\n",
       "    <tr>\n",
       "        <td>Rachel Carson Elementary School</td>\n",
       "        <td>97.6%</td>\n",
       "    </tr>\n",
       "    <tr>\n",
       "        <td>Edgar Allan Poe Elementary Classical School</td>\n",
       "        <td>97.6%</td>\n",
       "    </tr>\n",
       "    <tr>\n",
       "        <td>Orozco Fine Arts &amp; Sciences Elementary School</td>\n",
       "        <td>97.6%</td>\n",
       "    </tr>\n",
       "    <tr>\n",
       "        <td>Rachel Carson Elementary School</td>\n",
       "        <td>97.6%</td>\n",
       "    </tr>\n",
       "</table>"
      ],
      "text/plain": [
       "[('John Charles Haines Elementary School', '98.4%'),\n",
       " ('John Charles Haines Elementary School', '98.4%'),\n",
       " ('James Ward Elementary School', '97.8%'),\n",
       " ('James Ward Elementary School', '97.8%'),\n",
       " ('Edgar Allan Poe Elementary Classical School', '97.6%'),\n",
       " ('Orozco Fine Arts & Sciences Elementary School', '97.6%'),\n",
       " ('Rachel Carson Elementary School', '97.6%'),\n",
       " ('Edgar Allan Poe Elementary Classical School', '97.6%'),\n",
       " ('Orozco Fine Arts & Sciences Elementary School', '97.6%'),\n",
       " ('Rachel Carson Elementary School', '97.6%')]"
      ]
     },
     "execution_count": 76,
     "metadata": {},
     "output_type": "execute_result"
    }
   ],
   "source": [
    "%sql select \"Name_of_School\", \"Average_Student_Attendance\" from CHIPUBLIC \\\n",
    "    order by \"Average_Student_Attendance\" desc nulls last limit 10 "
   ]
  },
  {
   "cell_type": "markdown",
   "metadata": {},
   "source": [
    "**Problem 6: How many observations have value MOTOR VEHICLE THEFT in the Primary Type variable (this is the number of crimes related to Motor vehicles)**"
   ]
  },
  {
   "cell_type": "code",
   "execution_count": 326,
   "metadata": {
    "collapsed": false
   },
   "outputs": [
    {
     "name": "stdout",
     "output_type": "stream",
     "text": [
      " * ibm_db_sa://rkc86143:***@dashdb-txn-sbox-yp-dal09-04.services.dal.bluemix.net:50000/BLUDB\n",
      "Done.\n"
     ]
    },
    {
     "data": {
      "text/html": [
       "<table>\n",
       "    <tr>\n",
       "        <th>id</th>\n",
       "        <th>Case_Number</th>\n",
       "        <th>Primary_Type</th>\n",
       "    </tr>\n",
       "    <tr>\n",
       "        <td>10268156</td>\n",
       "        <td>HY455377</td>\n",
       "        <td>MOTOR VEHICLE THEFT</td>\n",
       "    </tr>\n",
       "    <tr>\n",
       "        <td>6672913</td>\n",
       "        <td>HP747058</td>\n",
       "        <td>MOTOR VEHICLE THEFT</td>\n",
       "    </tr>\n",
       "    <tr>\n",
       "        <td>5835389</td>\n",
       "        <td>HN645348</td>\n",
       "        <td>MOTOR VEHICLE THEFT</td>\n",
       "    </tr>\n",
       "    <tr>\n",
       "        <td>3969617</td>\n",
       "        <td>HL334216</td>\n",
       "        <td>MOTOR VEHICLE THEFT</td>\n",
       "    </tr>\n",
       "    <tr>\n",
       "        <td>7427845</td>\n",
       "        <td>HS230740</td>\n",
       "        <td>MOTOR VEHICLE THEFT</td>\n",
       "    </tr>\n",
       "    <tr>\n",
       "        <td>8921455</td>\n",
       "        <td>HV593288</td>\n",
       "        <td>MOTOR VEHICLE THEFT</td>\n",
       "    </tr>\n",
       "    <tr>\n",
       "        <td>3310641</td>\n",
       "        <td>HK341632</td>\n",
       "        <td>MOTOR VEHICLE THEFT</td>\n",
       "    </tr>\n",
       "    <tr>\n",
       "        <td>2514430</td>\n",
       "        <td>HH859922</td>\n",
       "        <td>MOTOR VEHICLE THEFT</td>\n",
       "    </tr>\n",
       "    <tr>\n",
       "        <td>1790731</td>\n",
       "        <td>G611731</td>\n",
       "        <td>MOTOR VEHICLE THEFT</td>\n",
       "    </tr>\n",
       "    <tr>\n",
       "        <td>5161792</td>\n",
       "        <td>HM757133</td>\n",
       "        <td>MOTOR VEHICLE THEFT</td>\n",
       "    </tr>\n",
       "    <tr>\n",
       "        <td>3072896</td>\n",
       "        <td>HJ786817</td>\n",
       "        <td>MOTOR VEHICLE THEFT</td>\n",
       "    </tr>\n",
       "    <tr>\n",
       "        <td>8681629</td>\n",
       "        <td>HV356669</td>\n",
       "        <td>MOTOR VEHICLE THEFT</td>\n",
       "    </tr>\n",
       "    <tr>\n",
       "        <td>9556192</td>\n",
       "        <td>HX207970</td>\n",
       "        <td>MOTOR VEHICLE THEFT</td>\n",
       "    </tr>\n",
       "    <tr>\n",
       "        <td>5136468</td>\n",
       "        <td>HM733422</td>\n",
       "        <td>MOTOR VEHICLE THEFT</td>\n",
       "    </tr>\n",
       "    <tr>\n",
       "        <td>2116573</td>\n",
       "        <td>HH352862</td>\n",
       "        <td>MOTOR VEHICLE THEFT</td>\n",
       "    </tr>\n",
       "    <tr>\n",
       "        <td>1819413</td>\n",
       "        <td>G652158</td>\n",
       "        <td>MOTOR VEHICLE THEFT</td>\n",
       "    </tr>\n",
       "    <tr>\n",
       "        <td>9651438</td>\n",
       "        <td>HX301095</td>\n",
       "        <td>MOTOR VEHICLE THEFT</td>\n",
       "    </tr>\n",
       "    <tr>\n",
       "        <td>9974424</td>\n",
       "        <td>HY163644</td>\n",
       "        <td>MOTOR VEHICLE THEFT</td>\n",
       "    </tr>\n",
       "    <tr>\n",
       "        <td>6723496</td>\n",
       "        <td>HR140766</td>\n",
       "        <td>MOTOR VEHICLE THEFT</td>\n",
       "    </tr>\n",
       "    <tr>\n",
       "        <td>2316019</td>\n",
       "        <td>HH605275</td>\n",
       "        <td>MOTOR VEHICLE THEFT</td>\n",
       "    </tr>\n",
       "    <tr>\n",
       "        <td>2859254</td>\n",
       "        <td>HJ513676</td>\n",
       "        <td>MOTOR VEHICLE THEFT</td>\n",
       "    </tr>\n",
       "    <tr>\n",
       "        <td>2103277</td>\n",
       "        <td>HH337319</td>\n",
       "        <td>MOTOR VEHICLE THEFT</td>\n",
       "    </tr>\n",
       "    <tr>\n",
       "        <td>2169996</td>\n",
       "        <td>HH423186</td>\n",
       "        <td>MOTOR VEHICLE THEFT</td>\n",
       "    </tr>\n",
       "    <tr>\n",
       "        <td>5733472</td>\n",
       "        <td>HN543219</td>\n",
       "        <td>MOTOR VEHICLE THEFT</td>\n",
       "    </tr>\n",
       "    <tr>\n",
       "        <td>10268156</td>\n",
       "        <td>HY455377</td>\n",
       "        <td>MOTOR VEHICLE THEFT</td>\n",
       "    </tr>\n",
       "    <tr>\n",
       "        <td>6672913</td>\n",
       "        <td>HP747058</td>\n",
       "        <td>MOTOR VEHICLE THEFT</td>\n",
       "    </tr>\n",
       "    <tr>\n",
       "        <td>5835389</td>\n",
       "        <td>HN645348</td>\n",
       "        <td>MOTOR VEHICLE THEFT</td>\n",
       "    </tr>\n",
       "    <tr>\n",
       "        <td>3969617</td>\n",
       "        <td>HL334216</td>\n",
       "        <td>MOTOR VEHICLE THEFT</td>\n",
       "    </tr>\n",
       "    <tr>\n",
       "        <td>7427845</td>\n",
       "        <td>HS230740</td>\n",
       "        <td>MOTOR VEHICLE THEFT</td>\n",
       "    </tr>\n",
       "    <tr>\n",
       "        <td>8921455</td>\n",
       "        <td>HV593288</td>\n",
       "        <td>MOTOR VEHICLE THEFT</td>\n",
       "    </tr>\n",
       "    <tr>\n",
       "        <td>3310641</td>\n",
       "        <td>HK341632</td>\n",
       "        <td>MOTOR VEHICLE THEFT</td>\n",
       "    </tr>\n",
       "    <tr>\n",
       "        <td>2514430</td>\n",
       "        <td>HH859922</td>\n",
       "        <td>MOTOR VEHICLE THEFT</td>\n",
       "    </tr>\n",
       "    <tr>\n",
       "        <td>1790731</td>\n",
       "        <td>G611731</td>\n",
       "        <td>MOTOR VEHICLE THEFT</td>\n",
       "    </tr>\n",
       "    <tr>\n",
       "        <td>5161792</td>\n",
       "        <td>HM757133</td>\n",
       "        <td>MOTOR VEHICLE THEFT</td>\n",
       "    </tr>\n",
       "    <tr>\n",
       "        <td>3072896</td>\n",
       "        <td>HJ786817</td>\n",
       "        <td>MOTOR VEHICLE THEFT</td>\n",
       "    </tr>\n",
       "    <tr>\n",
       "        <td>8681629</td>\n",
       "        <td>HV356669</td>\n",
       "        <td>MOTOR VEHICLE THEFT</td>\n",
       "    </tr>\n",
       "    <tr>\n",
       "        <td>9556192</td>\n",
       "        <td>HX207970</td>\n",
       "        <td>MOTOR VEHICLE THEFT</td>\n",
       "    </tr>\n",
       "    <tr>\n",
       "        <td>5136468</td>\n",
       "        <td>HM733422</td>\n",
       "        <td>MOTOR VEHICLE THEFT</td>\n",
       "    </tr>\n",
       "    <tr>\n",
       "        <td>2116573</td>\n",
       "        <td>HH352862</td>\n",
       "        <td>MOTOR VEHICLE THEFT</td>\n",
       "    </tr>\n",
       "    <tr>\n",
       "        <td>1819413</td>\n",
       "        <td>G652158</td>\n",
       "        <td>MOTOR VEHICLE THEFT</td>\n",
       "    </tr>\n",
       "    <tr>\n",
       "        <td>9651438</td>\n",
       "        <td>HX301095</td>\n",
       "        <td>MOTOR VEHICLE THEFT</td>\n",
       "    </tr>\n",
       "    <tr>\n",
       "        <td>9974424</td>\n",
       "        <td>HY163644</td>\n",
       "        <td>MOTOR VEHICLE THEFT</td>\n",
       "    </tr>\n",
       "    <tr>\n",
       "        <td>6723496</td>\n",
       "        <td>HR140766</td>\n",
       "        <td>MOTOR VEHICLE THEFT</td>\n",
       "    </tr>\n",
       "    <tr>\n",
       "        <td>2316019</td>\n",
       "        <td>HH605275</td>\n",
       "        <td>MOTOR VEHICLE THEFT</td>\n",
       "    </tr>\n",
       "    <tr>\n",
       "        <td>2859254</td>\n",
       "        <td>HJ513676</td>\n",
       "        <td>MOTOR VEHICLE THEFT</td>\n",
       "    </tr>\n",
       "    <tr>\n",
       "        <td>2103277</td>\n",
       "        <td>HH337319</td>\n",
       "        <td>MOTOR VEHICLE THEFT</td>\n",
       "    </tr>\n",
       "    <tr>\n",
       "        <td>2169996</td>\n",
       "        <td>HH423186</td>\n",
       "        <td>MOTOR VEHICLE THEFT</td>\n",
       "    </tr>\n",
       "    <tr>\n",
       "        <td>5733472</td>\n",
       "        <td>HN543219</td>\n",
       "        <td>MOTOR VEHICLE THEFT</td>\n",
       "    </tr>\n",
       "</table>"
      ],
      "text/plain": [
       "[(10268156, 'HY455377', 'MOTOR VEHICLE THEFT'),\n",
       " (6672913, 'HP747058', 'MOTOR VEHICLE THEFT'),\n",
       " (5835389, 'HN645348', 'MOTOR VEHICLE THEFT'),\n",
       " (3969617, 'HL334216', 'MOTOR VEHICLE THEFT'),\n",
       " (7427845, 'HS230740', 'MOTOR VEHICLE THEFT'),\n",
       " (8921455, 'HV593288', 'MOTOR VEHICLE THEFT'),\n",
       " (3310641, 'HK341632', 'MOTOR VEHICLE THEFT'),\n",
       " (2514430, 'HH859922', 'MOTOR VEHICLE THEFT'),\n",
       " (1790731, 'G611731', 'MOTOR VEHICLE THEFT'),\n",
       " (5161792, 'HM757133', 'MOTOR VEHICLE THEFT'),\n",
       " (3072896, 'HJ786817', 'MOTOR VEHICLE THEFT'),\n",
       " (8681629, 'HV356669', 'MOTOR VEHICLE THEFT'),\n",
       " (9556192, 'HX207970', 'MOTOR VEHICLE THEFT'),\n",
       " (5136468, 'HM733422', 'MOTOR VEHICLE THEFT'),\n",
       " (2116573, 'HH352862', 'MOTOR VEHICLE THEFT'),\n",
       " (1819413, 'G652158', 'MOTOR VEHICLE THEFT'),\n",
       " (9651438, 'HX301095', 'MOTOR VEHICLE THEFT'),\n",
       " (9974424, 'HY163644', 'MOTOR VEHICLE THEFT'),\n",
       " (6723496, 'HR140766', 'MOTOR VEHICLE THEFT'),\n",
       " (2316019, 'HH605275', 'MOTOR VEHICLE THEFT'),\n",
       " (2859254, 'HJ513676', 'MOTOR VEHICLE THEFT'),\n",
       " (2103277, 'HH337319', 'MOTOR VEHICLE THEFT'),\n",
       " (2169996, 'HH423186', 'MOTOR VEHICLE THEFT'),\n",
       " (5733472, 'HN543219', 'MOTOR VEHICLE THEFT'),\n",
       " (10268156, 'HY455377', 'MOTOR VEHICLE THEFT'),\n",
       " (6672913, 'HP747058', 'MOTOR VEHICLE THEFT'),\n",
       " (5835389, 'HN645348', 'MOTOR VEHICLE THEFT'),\n",
       " (3969617, 'HL334216', 'MOTOR VEHICLE THEFT'),\n",
       " (7427845, 'HS230740', 'MOTOR VEHICLE THEFT'),\n",
       " (8921455, 'HV593288', 'MOTOR VEHICLE THEFT'),\n",
       " (3310641, 'HK341632', 'MOTOR VEHICLE THEFT'),\n",
       " (2514430, 'HH859922', 'MOTOR VEHICLE THEFT'),\n",
       " (1790731, 'G611731', 'MOTOR VEHICLE THEFT'),\n",
       " (5161792, 'HM757133', 'MOTOR VEHICLE THEFT'),\n",
       " (3072896, 'HJ786817', 'MOTOR VEHICLE THEFT'),\n",
       " (8681629, 'HV356669', 'MOTOR VEHICLE THEFT'),\n",
       " (9556192, 'HX207970', 'MOTOR VEHICLE THEFT'),\n",
       " (5136468, 'HM733422', 'MOTOR VEHICLE THEFT'),\n",
       " (2116573, 'HH352862', 'MOTOR VEHICLE THEFT'),\n",
       " (1819413, 'G652158', 'MOTOR VEHICLE THEFT'),\n",
       " (9651438, 'HX301095', 'MOTOR VEHICLE THEFT'),\n",
       " (9974424, 'HY163644', 'MOTOR VEHICLE THEFT'),\n",
       " (6723496, 'HR140766', 'MOTOR VEHICLE THEFT'),\n",
       " (2316019, 'HH605275', 'MOTOR VEHICLE THEFT'),\n",
       " (2859254, 'HJ513676', 'MOTOR VEHICLE THEFT'),\n",
       " (2103277, 'HH337319', 'MOTOR VEHICLE THEFT'),\n",
       " (2169996, 'HH423186', 'MOTOR VEHICLE THEFT'),\n",
       " (5733472, 'HN543219', 'MOTOR VEHICLE THEFT')]"
      ]
     },
     "execution_count": 326,
     "metadata": {},
     "output_type": "execute_result"
    }
   ],
   "source": [
    "%sql select \"ID\", \"Case_Number\", \"Primary_Type\" from CHICRIME where \"Primary_Type\" = 'MOTOR VEHICLE THEFT'"
   ]
  },
  {
   "cell_type": "markdown",
   "metadata": {},
   "source": [
    "**Problem 7: Using INNER JOIN, find the minimum “Average Student Attendance” for community are where hardship is 96**"
   ]
  },
  {
   "cell_type": "code",
   "execution_count": 130,
   "metadata": {
    "collapsed": false
   },
   "outputs": [
    {
     "name": "stdout",
     "output_type": "stream",
     "text": [
      " * ibm_db_sa://rkc86143:***@dashdb-txn-sbox-yp-dal09-04.services.dal.bluemix.net:50000/BLUDB\n",
      "Done.\n"
     ]
    },
    {
     "data": {
      "text/html": [
       "<table>\n",
       "    <tr>\n",
       "        <th>1</th>\n",
       "        <th>hardship_index</th>\n",
       "    </tr>\n",
       "    <tr>\n",
       "        <td>86.1%</td>\n",
       "        <td>96</td>\n",
       "    </tr>\n",
       "</table>"
      ],
      "text/plain": [
       "[('86.1%', 96)]"
      ]
     },
     "execution_count": 130,
     "metadata": {},
     "output_type": "execute_result"
    }
   ],
   "source": [
    "%sql select min(PUB.\"Average_Student_Attendance\"), CEN.Hardship_Index \n",
    "from CENSUS as CEN INNER JOIN CHIPUBLIC as PUB ON CEN.\"Community_Area_Number\" = PUB.\"Community_Area_Number\" \n",
    "WHERE CEN.Hardship_Index = 96 \n",
    "GROUP BY CEN.Hardship_Index"
   ]
  }
 ],
 "metadata": {
  "kernelspec": {
   "display_name": "Python 3",
   "language": "python",
   "name": "python3"
  },
  "language_info": {
   "codemirror_mode": {
    "name": "ipython",
    "version": 3
   },
   "file_extension": ".py",
   "mimetype": "text/x-python",
   "name": "python",
   "nbconvert_exporter": "python",
   "pygments_lexer": "ipython3",
   "version": "3.5.2"
  },
  "widgets": {
   "state": {},
   "version": "1.1.2"
  }
 },
 "nbformat": 4,
 "nbformat_minor": 2
}
